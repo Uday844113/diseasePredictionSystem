{
 "cells": [
  {
   "cell_type": "markdown",
   "id": "ff0cffb4",
   "metadata": {},
   "source": [
    "command to create a Django app:-\n",
    "\n",
    "python manage.py startapp dpapp\n",
    "\n",
    "how to add template\n",
    "\n",
    "--> create folder with name templates in dpapp.\n",
    "--> in templates folser add a new file named index.html"
   ]
  },
  {
   "cell_type": "code",
   "execution_count": null,
   "id": "894c266f",
   "metadata": {},
   "outputs": [
    {
     "ename": "",
     "evalue": "",
     "output_type": "error",
     "traceback": [
      "\u001b[1;31mRunning cells with 'Python 3.13.5' requires the ipykernel package.\n",
      "\u001b[1;31m<a href='command:jupyter.createPythonEnvAndSelectController'>Create a Python Environment</a> with the required packages.\n",
      "\u001b[1;31mOr install 'ipykernel' using the command: '\"c:/Users/UDAY MAURYA/AppData/Local/Microsoft/WindowsApps/python3.13.exe\" -m pip install ipykernel -U --user --force-reinstall'"
     ]
    }
   ],
   "source": [
    "import pandas as pd\n",
    "import os\n",
    "import joblib"
   ]
  },
  {
   "cell_type": "code",
   "execution_count": null,
   "id": "169f7dca",
   "metadata": {},
   "outputs": [],
   "source": []
  },
  {
   "cell_type": "markdown",
   "id": "62220588",
   "metadata": {},
   "source": [
    "After \n",
    "python manage.py makemigrations\n",
    "python manage.py migrate"
   ]
  }
 ],
 "metadata": {
  "kernelspec": {
   "display_name": "Python 3",
   "language": "python",
   "name": "python3"
  },
  "language_info": {
   "name": "python",
   "version": "3.13.7"
  }
 },
 "nbformat": 4,
 "nbformat_minor": 5
}
